{
 "cells": [
  {
   "cell_type": "code",
   "execution_count": 2,
   "id": "28ba9deb",
   "metadata": {
    "scrolled": true
   },
   "outputs": [
    {
     "name": "stdout",
     "output_type": "stream",
     "text": [
      "Requirement already satisfied: faker in c:\\programdata\\anaconda3\\lib\\site-packages (11.3.0)\n",
      "Requirement already satisfied: text-unidecode==1.3 in c:\\programdata\\anaconda3\\lib\\site-packages (from faker) (1.3)\n",
      "Requirement already satisfied: python-dateutil>=2.4 in c:\\programdata\\anaconda3\\lib\\site-packages (from faker) (2.8.2)\n",
      "Requirement already satisfied: six>=1.5 in c:\\programdata\\anaconda3\\lib\\site-packages (from python-dateutil>=2.4->faker) (1.16.0)\n",
      "Note: you may need to restart the kernel to use updated packages.\n"
     ]
    }
   ],
   "source": [
    "pip install faker"
   ]
  },
  {
   "cell_type": "code",
   "execution_count": 3,
   "id": "6846a3f3",
   "metadata": {},
   "outputs": [],
   "source": [
    "import pandas as pd\n",
    "from faker import Faker\n",
    "from datetime import datetime\n",
    "from typing import List\n",
    "import random\n",
    "import time"
   ]
  },
  {
   "cell_type": "code",
   "execution_count": 4,
   "id": "230b024b",
   "metadata": {},
   "outputs": [],
   "source": [
    "# Creating Faker instance and specifying it to polish locale\n",
    "fake = Faker(locale=\"pl_PL\")"
   ]
  },
  {
   "cell_type": "code",
   "execution_count": 5,
   "id": "b3ff8872",
   "metadata": {},
   "outputs": [],
   "source": [
    "# Implementation of generate_ssns method, it generates given amount of ssns\n",
    "def generate_ssns(index):\n",
    "    ssn_array = []\n",
    "    for _ in range(index):\n",
    "        ssn_array.append(fake.ssn())\n",
    "\n",
    "    ssn_series = pd.Series(ssn_array)\n",
    "\n",
    "    return ssn_series"
   ]
  },
  {
   "cell_type": "code",
   "execution_count": 6,
   "id": "4be44c54",
   "metadata": {},
   "outputs": [],
   "source": [
    "# Implementing two methods copied from faker documentation, I will use them to implement generate_unique_ssns method\n",
    "def calculate_month(birth_date: datetime) -> int:\n",
    "    year = int(birth_date.strftime(\"%Y\"))\n",
    "    month = int(birth_date.strftime(\"%m\")) + ((int(year / 100) - 14) % 5) * 20\n",
    "    return month"
   ]
  },
  {
   "cell_type": "code",
   "execution_count": 7,
   "id": "1c390903",
   "metadata": {},
   "outputs": [],
   "source": [
    "def checksum(digits: List[int]) -> int:\n",
    "    weights_for_check_digit = [9, 7, 3, 1, 9, 7, 3, 1, 9, 7]\n",
    "    check_digit = 0\n",
    "\n",
    "    for i in range(0, 10):\n",
    "        check_digit += weights_for_check_digit[i] * digits[i]\n",
    "\n",
    "    check_digit %= 10\n",
    "\n",
    "    return check_digit"
   ]
  },
  {
   "cell_type": "code",
   "execution_count": 8,
   "id": "f69170e9",
   "metadata": {},
   "outputs": [],
   "source": [
    "# Implementation of generate_unique_ssns method, I inspired it on ssn provider from polish locale in faker module\n",
    "# I assume that you can enter only \"male\" or \"female\" as gender values\n",
    "def generate_unique_ssns(index, sex, birth_start, birth_end):\n",
    "    ssn_array = []\n",
    "    start = datetime.strptime(birth_start, \"%Y-%m-%d\")\n",
    "    end = datetime.strptime(birth_end, \"%Y-%m-%d\")\n",
    "\n",
    "    for i in range(index):\n",
    "        birth_date = fake.date_between(start_date=start, end_date=end)\n",
    "\n",
    "        year_without_century = int(birth_date.strftime(\"%y\"))\n",
    "        month = calculate_month(birth_date)\n",
    "        day = int(birth_date.strftime(\"%d\"))\n",
    "\n",
    "        pesel_digits = [\n",
    "            int(year_without_century / 10),\n",
    "            year_without_century % 10,\n",
    "            int(month / 10),\n",
    "            month % 10,\n",
    "            int(day / 10),\n",
    "            day % 10,\n",
    "        ]\n",
    "\n",
    "        for _ in range(3):\n",
    "            pesel_digits.append(random.randint(0, 9))\n",
    "\n",
    "        if sex == \"male\":\n",
    "            pesel_digits.append(random.choice([1, 3, 5, 7, 9]))\n",
    "        else:\n",
    "            pesel_digits.append(random.choice([0, 2, 4, 6, 8]))\n",
    "\n",
    "        pesel_digits.append(checksum(pesel_digits))\n",
    "\n",
    "        ssn_str = \"\".join(str(digit) for digit in pesel_digits)\n",
    "        ssn_array.append(ssn_str)\n",
    "\n",
    "    ssn_series = pd.Series(ssn_array)\n",
    "\n",
    "    return ssn_series"
   ]
  },
  {
   "cell_type": "code",
   "execution_count": 9,
   "id": "ef09eeb6",
   "metadata": {},
   "outputs": [
    {
     "name": "stdout",
     "output_type": "stream",
     "text": [
      "0      78051772500\n",
      "1      12252815112\n",
      "2      07211072435\n",
      "3      11272892927\n",
      "4      76072526458\n",
      "          ...     \n",
      "995    98011465190\n",
      "996    10300548690\n",
      "997    81022750942\n",
      "998    85121525472\n",
      "999    08252063310\n",
      "Length: 1000, dtype: object\n",
      "Time elapsed: 0.054852962493896484 seconds\n"
     ]
    }
   ],
   "source": [
    "# Implementation of calls of generate_ssns method, with their execution times\n",
    "start = time.time()\n",
    "print(generate_ssns(1000))\n",
    "end = time.time()\n",
    "print(\"Time elapsed: \"+str(end-start)+\" seconds\")"
   ]
  },
  {
   "cell_type": "code",
   "execution_count": 10,
   "id": "9a154518",
   "metadata": {},
   "outputs": [
    {
     "name": "stdout",
     "output_type": "stream",
     "text": [
      "0       03272414830\n",
      "1       15272919444\n",
      "2       13312417921\n",
      "3       98072332882\n",
      "4       16320941237\n",
      "           ...     \n",
      "9995    06262939324\n",
      "9996    04231938426\n",
      "9997    03270536981\n",
      "9998    06262483878\n",
      "9999    95072865314\n",
      "Length: 10000, dtype: object\n",
      "Time elapsed: 0.4587724208831787 seconds\n"
     ]
    }
   ],
   "source": [
    "start = time.time()\n",
    "print(generate_ssns(10000))\n",
    "end = time.time()\n",
    "print(\"Time elapsed: \"+str(end-start)+\" seconds\")"
   ]
  },
  {
   "cell_type": "code",
   "execution_count": 11,
   "id": "8361070f",
   "metadata": {},
   "outputs": [
    {
     "name": "stdout",
     "output_type": "stream",
     "text": [
      "0        13291185499\n",
      "1        21301006788\n",
      "2        11280194671\n",
      "3        84090905960\n",
      "4        12232417008\n",
      "            ...     \n",
      "99995    72112423761\n",
      "99996    99090648821\n",
      "99997    74041580911\n",
      "99998    00302388987\n",
      "99999    95030669619\n",
      "Length: 100000, dtype: object\n",
      "Time elapsed: 4.215328693389893 seconds\n"
     ]
    }
   ],
   "source": [
    "start = time.time()\n",
    "print(generate_ssns(100000))\n",
    "end = time.time()\n",
    "print(\"Time elapsed: \"+str(end-start)+\" seconds\")"
   ]
  },
  {
   "cell_type": "code",
   "execution_count": 12,
   "id": "44e692f1",
   "metadata": {},
   "outputs": [
    {
     "name": "stdout",
     "output_type": "stream",
     "text": [
      "0      90011148954\n",
      "1      90011096158\n",
      "2      90010966450\n",
      "3      90011714496\n",
      "4      90011156832\n",
      "          ...     \n",
      "995    90010187390\n",
      "996    90011068670\n",
      "997    90010356158\n",
      "998    90010720557\n",
      "999    90011687455\n",
      "Length: 1000, dtype: object\n",
      "Time elapsed: 0.12267184257507324 seconds\n"
     ]
    }
   ],
   "source": [
    "# Implementation of calls of generate_unique_ssns method for males born from 1990-01-01 to 1990-01-19, with their execution times\n",
    "start = time.time()\n",
    "print(generate_unique_ssns(1000, \"male\", \"1990-01-01\", \"1990-01-19\"))\n",
    "end = time.time()\n",
    "print(\"Time elapsed: \"+str(end-start)+\" seconds\")"
   ]
  },
  {
   "cell_type": "code",
   "execution_count": 13,
   "id": "78473c36",
   "metadata": {},
   "outputs": [
    {
     "name": "stdout",
     "output_type": "stream",
     "text": [
      "0       90010787897\n",
      "1       90011854938\n",
      "2       90011667657\n",
      "3       90011264298\n",
      "4       90011746275\n",
      "           ...     \n",
      "9995    90010171551\n",
      "9996    90010963679\n",
      "9997    90010162078\n",
      "9998    90010779452\n",
      "9999    90011722633\n",
      "Length: 10000, dtype: object\n",
      "Time elapsed: 1.3380661010742188 seconds\n"
     ]
    }
   ],
   "source": [
    "start = time.time()\n",
    "print(generate_unique_ssns(10000, \"male\", \"1990-01-01\", \"1990-01-19\"))\n",
    "end = time.time()\n",
    "print(\"Time elapsed: \"+str(end-start)+\" seconds\")"
   ]
  },
  {
   "cell_type": "code",
   "execution_count": 14,
   "id": "dbda5bfa",
   "metadata": {},
   "outputs": [
    {
     "name": "stdout",
     "output_type": "stream",
     "text": [
      "0        90010838036\n",
      "1        90011458835\n",
      "2        90011143577\n",
      "3        90011049590\n",
      "4        90010544195\n",
      "            ...     \n",
      "99995    90011757330\n",
      "99996    90010348157\n",
      "99997    90011745151\n",
      "99998    90010517359\n",
      "99999    90011740170\n",
      "Length: 100000, dtype: object\n",
      "Time elapsed: 13.411237239837646 seconds\n"
     ]
    }
   ],
   "source": [
    "start = time.time()\n",
    "print(generate_unique_ssns(100000, \"male\", \"1990-01-01\", \"1990-01-19\"))\n",
    "end = time.time()\n",
    "print(\"Time elapsed: \"+str(end-start)+\" seconds\")"
   ]
  },
  {
   "cell_type": "code",
   "execution_count": 15,
   "id": "3b7b1882",
   "metadata": {},
   "outputs": [
    {
     "name": "stdout",
     "output_type": "stream",
     "text": [
      "0      90011332980\n",
      "1      90010452823\n",
      "2      90011483082\n",
      "3      90011550902\n",
      "4      90010140001\n",
      "          ...     \n",
      "995    90010465249\n",
      "996    90010829201\n",
      "997    90011323186\n",
      "998    90011608827\n",
      "999    90010174523\n",
      "Length: 1000, dtype: object\n",
      "Time elapsed: 0.13962531089782715 seconds\n"
     ]
    }
   ],
   "source": [
    "# Implementation of calls of generate_unique_ssns method for females born from 1990-01-01 to 1990-01-19, with their execution times\n",
    "start = time.time()\n",
    "print(generate_unique_ssns(1000, \"female\", \"1990-01-01\", \"1990-01-19\"))\n",
    "end = time.time()\n",
    "print(\"Time elapsed: \"+str(end-start)+\" seconds\")"
   ]
  },
  {
   "cell_type": "code",
   "execution_count": 16,
   "id": "4c3c18c7",
   "metadata": {},
   "outputs": [
    {
     "name": "stdout",
     "output_type": "stream",
     "text": [
      "0       90010933489\n",
      "1       90011322185\n",
      "2       90010480806\n",
      "3       90011441286\n",
      "4       90011642007\n",
      "           ...     \n",
      "9995    90011165209\n",
      "9996    90010114525\n",
      "9997    90010815440\n",
      "9998    90011418345\n",
      "9999    90010470421\n",
      "Length: 10000, dtype: object\n",
      "Time elapsed: 1.2759861946105957 seconds\n"
     ]
    }
   ],
   "source": [
    "start = time.time()\n",
    "print(generate_unique_ssns(10000, \"female\", \"1990-01-01\", \"1990-01-19\"))\n",
    "end = time.time()\n",
    "print(\"Time elapsed: \"+str(end-start)+\" seconds\")"
   ]
  },
  {
   "cell_type": "code",
   "execution_count": 17,
   "id": "b98f820f",
   "metadata": {},
   "outputs": [
    {
     "name": "stdout",
     "output_type": "stream",
     "text": [
      "0        90011209486\n",
      "1        90011506460\n",
      "2        90011002386\n",
      "3        90011720204\n",
      "4        90011334647\n",
      "            ...     \n",
      "99995    90010687302\n",
      "99996    90011135149\n",
      "99997    90011505506\n",
      "99998    90010508883\n",
      "99999    90011224081\n",
      "Length: 100000, dtype: object\n",
      "Time elapsed: 13.103292465209961 seconds\n"
     ]
    }
   ],
   "source": [
    "start = time.time()\n",
    "print(generate_unique_ssns(100000, \"female\", \"1990-01-01\", \"1990-01-19\"))\n",
    "end = time.time()\n",
    "print(\"Time elapsed: \"+str(end-start)+\" seconds\")"
   ]
  },
  {
   "cell_type": "code",
   "execution_count": 18,
   "id": "e1adfb37",
   "metadata": {},
   "outputs": [],
   "source": [
    "# Implementation of validate_ssn method, again I inspired it on ssn provider from polish locale in faker module\n",
    "def validate_ssn(ssn, sex, birth_date):\n",
    "    birth_date = datetime.strptime(birth_date, \"%Y-%m-%d\")\n",
    "\n",
    "    year_without_century = int(birth_date.strftime(\"%y\"))\n",
    "    month = calculate_month(birth_date)\n",
    "    day = int(birth_date.strftime(\"%d\"))\n",
    "\n",
    "    pesel_digits = [\n",
    "        int(year_without_century / 10),\n",
    "        year_without_century % 10,\n",
    "        int(month / 10),\n",
    "        month % 10,\n",
    "        int(day / 10),\n",
    "        day % 10,\n",
    "    ]\n",
    "\n",
    "    ssn_list = [int(x) for x in str(ssn)]\n",
    "    for j in [6, 7, 8]:\n",
    "        pesel_digits.append(ssn_list[j])\n",
    "\n",
    "    if sex == \"male\" and (ssn_list[9] % 2) == 1:\n",
    "        pesel_digits.append(ssn_list[9])\n",
    "    elif sex == \"female\" and (ssn_list[9] % 2) == 0:\n",
    "        pesel_digits.append(ssn_list[9])\n",
    "    else:\n",
    "        print(\"Provided SSN is not valid! :C\")\n",
    "        return None\n",
    "\n",
    "    pesel_digits.append(ssn_list[10])\n",
    "\n",
    "    ssn_to_validate = \"\".join(str(digit) for digit in pesel_digits)\n",
    "\n",
    "    if ssn_to_validate == ssn:\n",
    "        print(\"Provided SSN is valid! :D\")\n",
    "    else:\n",
    "        print(\"Provided SSN is not valid! :C\")"
   ]
  },
  {
   "cell_type": "code",
   "execution_count": 19,
   "id": "b414ef0f",
   "metadata": {},
   "outputs": [
    {
     "name": "stdout",
     "output_type": "stream",
     "text": [
      "Provided SSN is valid! :D\n"
     ]
    }
   ],
   "source": [
    "# Testing validate_ssn method on some ssns I took from the calls of generate_unique_ssns method\n",
    "validate_ssn(\"90010742166\", \"female\", \"1990-01-07\")"
   ]
  },
  {
   "cell_type": "code",
   "execution_count": 20,
   "id": "450d0d98",
   "metadata": {},
   "outputs": [
    {
     "name": "stdout",
     "output_type": "stream",
     "text": [
      "Provided SSN is not valid! :C\n"
     ]
    }
   ],
   "source": [
    "validate_ssn(\"90010742166\", \"male\", \"1990-01-07\")"
   ]
  },
  {
   "cell_type": "code",
   "execution_count": 21,
   "id": "5c8be169",
   "metadata": {},
   "outputs": [
    {
     "name": "stdout",
     "output_type": "stream",
     "text": [
      "Provided SSN is not valid! :C\n"
     ]
    }
   ],
   "source": [
    "validate_ssn(\"90010359632\", \"female\", \"1990-01-03\")"
   ]
  },
  {
   "cell_type": "code",
   "execution_count": 22,
   "id": "3cc6a1fe",
   "metadata": {},
   "outputs": [
    {
     "name": "stdout",
     "output_type": "stream",
     "text": [
      "Provided SSN is valid! :D\n"
     ]
    }
   ],
   "source": [
    "validate_ssn(\"90010359632\", \"male\", \"1990-01-03\")"
   ]
  },
  {
   "cell_type": "code",
   "execution_count": 23,
   "id": "de456a72",
   "metadata": {},
   "outputs": [
    {
     "name": "stdout",
     "output_type": "stream",
     "text": [
      "Provided SSN is not valid! :C\n"
     ]
    }
   ],
   "source": [
    "validate_ssn(\"90010742166\", \"female\", \"1990-01-10\")"
   ]
  },
  {
   "cell_type": "code",
   "execution_count": 25,
   "id": "18d0d0ad",
   "metadata": {},
   "outputs": [
    {
     "name": "stdout",
     "output_type": "stream",
     "text": [
      "Provided SSN is not valid! :C\n"
     ]
    }
   ],
   "source": [
    "validate_ssn(\"90010359632\", \"male\", \"1990-01-11\")"
   ]
  }
 ],
 "metadata": {
  "kernelspec": {
   "display_name": "Python 3 (ipykernel)",
   "language": "python",
   "name": "python3"
  },
  "language_info": {
   "codemirror_mode": {
    "name": "ipython",
    "version": 3
   },
   "file_extension": ".py",
   "mimetype": "text/x-python",
   "name": "python",
   "nbconvert_exporter": "python",
   "pygments_lexer": "ipython3",
   "version": "3.9.7"
  }
 },
 "nbformat": 4,
 "nbformat_minor": 5
}
